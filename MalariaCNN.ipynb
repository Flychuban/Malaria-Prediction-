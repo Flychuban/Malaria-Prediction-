{
  "nbformat": 4,
  "nbformat_minor": 0,
  "metadata": {
    "colab": {
      "provenance": [],
      "mount_file_id": "1SAfdRHSYP-UB7eqOYV5sWmSOWYHrNnEN",
      "authorship_tag": "ABX9TyOrREdZEx7I2tRAkvuBaatJ",
      "include_colab_link": true
    },
    "kernelspec": {
      "name": "python3",
      "display_name": "Python 3"
    },
    "language_info": {
      "name": "python"
    }
  },
  "cells": [
    {
      "cell_type": "markdown",
      "metadata": {
        "id": "view-in-github",
        "colab_type": "text"
      },
      "source": [
        "<a href=\"https://colab.research.google.com/github/Flychuban/Malaria-Prediction-/blob/main/MalariaCNN.ipynb\" target=\"_parent\"><img src=\"https://colab.research.google.com/assets/colab-badge.svg\" alt=\"Open In Colab\"/></a>"
      ]
    },
    {
      "cell_type": "code",
      "source": [
        "import numpy as np\n",
        "import pandas as pd\n",
        "from matplotlib import pyplot as plt\n",
        "import os\n",
        "\n",
        "\n",
        "import tensorflow as tf\n",
        "from tensorflow.keras.models import Sequential\n",
        "from tensorflow.keras.callbacks import EarlyStopping\n",
        "from tensorflow.keras.layers import Conv2D, MaxPool2D, Dropout, Flatten, Dense, BatchNormalization\n",
        "from tensorflow.keras.preprocessing.image import ImageDataGenerator"
      ],
      "metadata": {
        "id": "Sgn4yJllW9UK"
      },
      "execution_count": 15,
      "outputs": []
    },
    {
      "cell_type": "code",
      "source": [
        "num_imgs = len(os.listdir('/content/drive/MyDrive/MalariaPrediction/cell_images/Test/Parasitized'))\n",
        "num_imgs"
      ],
      "metadata": {
        "colab": {
          "base_uri": "https://localhost:8080/"
        },
        "id": "K695g_lZcQIv",
        "outputId": "8a864671-ff6d-42b9-e84b-1c719257aad2"
      },
      "execution_count": 22,
      "outputs": [
        {
          "output_type": "execute_result",
          "data": {
            "text/plain": [
              "2856"
            ]
          },
          "metadata": {},
          "execution_count": 22
        }
      ]
    },
    {
      "cell_type": "code",
      "source": [
        "TARGET_SIZE = [128, 128]"
      ],
      "metadata": {
        "id": "kdySNpY6bnaU"
      },
      "execution_count": 14,
      "outputs": []
    },
    {
      "cell_type": "code",
      "source": [
        "datagen = ImageDataGenerator(rescale=1/255.0)"
      ],
      "metadata": {
        "id": "zcyqjmY3Z4cr"
      },
      "execution_count": 24,
      "outputs": []
    },
    {
      "cell_type": "code",
      "source": [
        "train_data = datagen.flow_from_directory(\"/content/drive/MyDrive/MalariaPrediction/cell_images/Train\",\n",
        "                                         target_size=TARGET_SIZE,\n",
        "                                         class_mode = 'binary',\n",
        "                                         batch_size = 16,\n",
        "                                         subset='training')"
      ],
      "metadata": {
        "colab": {
          "base_uri": "https://localhost:8080/"
        },
        "id": "kGdfhaY9bfAo",
        "outputId": "1fa8e204-d399-4eea-e9d4-b0d212913f07"
      },
      "execution_count": 25,
      "outputs": [
        {
          "output_type": "stream",
          "name": "stdout",
          "text": [
            "Found 21846 images belonging to 2 classes.\n"
          ]
        }
      ]
    },
    {
      "cell_type": "code",
      "source": [
        "val_data = datagen.flow_from_directory('/content/drive/MyDrive/MalariaPrediction/cell_images/Test',\n",
        "                                       target_size=TARGET_SIZE,\n",
        "                                       class_mode='binary',\n",
        "                                       batch_size=16)"
      ],
      "metadata": {
        "colab": {
          "base_uri": "https://localhost:8080/"
        },
        "id": "JM_YE1Hddcd2",
        "outputId": "fd782693-5417-49b8-83ad-2ca30dc22df8"
      },
      "execution_count": 28,
      "outputs": [
        {
          "output_type": "stream",
          "name": "stdout",
          "text": [
            "Found 5712 images belonging to 2 classes.\n"
          ]
        }
      ]
    },
    {
      "cell_type": "markdown",
      "source": [
        "Build model"
      ],
      "metadata": {
        "id": "Z2wmjzvDflxh"
      }
    },
    {
      "cell_type": "code",
      "source": [
        "model = Sequential()"
      ],
      "metadata": {
        "id": "L04B3u6qfk4y"
      },
      "execution_count": 39,
      "outputs": []
    },
    {
      "cell_type": "code",
      "source": [
        "model.add(Conv2D(16, (3,3), activation='relu', input_shape=(128, 128, 3)))\n",
        "model.add(MaxPool2D(2, 2))\n",
        "model.add(Dropout(0.2))\n",
        "\n",
        "model.add(Conv2D(32, (3,3), activation='relu'))\n",
        "model.add(MaxPool2D(2, 2))\n",
        "model.add(Dropout(0.3))\n",
        "\n",
        "model.add(Conv2D(64, (3,3), activation='relu'))\n",
        "model.add(MaxPool2D(2,2))\n",
        "model.add(Dropout(0.3))\n",
        "\n",
        "model.add(Flatten())\n",
        "\n",
        "model.add(Dense(64, activation='relu'))\n",
        "model.add(Dropout(0.5))\n",
        "model.add(Dense(1, activation='sigmoid'))"
      ],
      "metadata": {
        "id": "7DHaLRXaeP_L"
      },
      "execution_count": 40,
      "outputs": []
    },
    {
      "cell_type": "code",
      "source": [
        "model.summary()"
      ],
      "metadata": {
        "colab": {
          "base_uri": "https://localhost:8080/"
        },
        "id": "AcKuvqO5gaon",
        "outputId": "adb4eeb3-3a81-4393-9b91-6e729de60bf2"
      },
      "execution_count": 34,
      "outputs": [
        {
          "output_type": "stream",
          "name": "stdout",
          "text": [
            "Model: \"sequential\"\n",
            "_________________________________________________________________\n",
            " Layer (type)                Output Shape              Param #   \n",
            "=================================================================\n",
            " conv2d (Conv2D)             (None, 126, 126, 16)      448       \n",
            "                                                                 \n",
            " max_pooling2d (MaxPooling2D  (None, 63, 63, 16)       0         \n",
            " )                                                               \n",
            "                                                                 \n",
            " dropout (Dropout)           (None, 63, 63, 16)        0         \n",
            "                                                                 \n",
            " conv2d_1 (Conv2D)           (None, 61, 61, 16)        2320      \n",
            "                                                                 \n",
            " max_pooling2d_1 (MaxPooling  (None, 30, 30, 16)       0         \n",
            " 2D)                                                             \n",
            "                                                                 \n",
            " dropout_1 (Dropout)         (None, 30, 30, 16)        0         \n",
            "                                                                 \n",
            " conv2d_2 (Conv2D)           (None, 28, 28, 32)        4640      \n",
            "                                                                 \n",
            " max_pooling2d_2 (MaxPooling  (None, 14, 14, 32)       0         \n",
            " 2D)                                                             \n",
            "                                                                 \n",
            " dropout_2 (Dropout)         (None, 14, 14, 32)        0         \n",
            "                                                                 \n",
            " conv2d_3 (Conv2D)           (None, 12, 12, 64)        18496     \n",
            "                                                                 \n",
            " max_pooling2d_3 (MaxPooling  (None, 6, 6, 64)         0         \n",
            " 2D)                                                             \n",
            "                                                                 \n",
            " dropout_3 (Dropout)         (None, 6, 6, 64)          0         \n",
            "                                                                 \n",
            " flatten (Flatten)           (None, 2304)              0         \n",
            "                                                                 \n",
            " dense (Dense)               (None, 64)                147520    \n",
            "                                                                 \n",
            " dropout_4 (Dropout)         (None, 64)                0         \n",
            "                                                                 \n",
            " dense_1 (Dense)             (None, 1)                 65        \n",
            "                                                                 \n",
            "=================================================================\n",
            "Total params: 173,489\n",
            "Trainable params: 173,489\n",
            "Non-trainable params: 0\n",
            "_________________________________________________________________\n"
          ]
        }
      ]
    },
    {
      "cell_type": "code",
      "source": [
        "model.compile(loss='binary_crossentropy', optimizer='adam', metrics=['accuracy'])"
      ],
      "metadata": {
        "id": "LNkIrucIinA-"
      },
      "execution_count": 45,
      "outputs": []
    },
    {
      "cell_type": "code",
      "source": [
        "early_stop_flag = EarlyStopping(monitor='val_loss', patience=2)"
      ],
      "metadata": {
        "id": "MFpuvMHikIBF"
      },
      "execution_count": 46,
      "outputs": []
    },
    {
      "cell_type": "code",
      "source": [
        "model.fit(train_data,\n",
        "          validation_data=val_data,\n",
        "          epochs=20,\n",
        "          steps_per_epoch=len(train_data),\n",
        "          validation_steps=len(val_data),\n",
        "          callbacks=[early_stop_flag])"
      ],
      "metadata": {
        "colab": {
          "base_uri": "https://localhost:8080/"
        },
        "id": "oTv7020_kdWs",
        "outputId": "ef03e90f-a494-4cb4-c171-976947047186"
      },
      "execution_count": 47,
      "outputs": [
        {
          "output_type": "stream",
          "name": "stdout",
          "text": [
            "Epoch 1/20\n",
            "1366/1366 [==============================] - 5732s 4s/step - loss: 0.6405 - accuracy: 0.6204 - val_loss: 0.3249 - val_accuracy: 0.8820\n",
            "Epoch 2/20\n",
            "1366/1366 [==============================] - 493s 361ms/step - loss: 0.2001 - accuracy: 0.9372 - val_loss: 0.2237 - val_accuracy: 0.9196\n",
            "Epoch 3/20\n",
            "1366/1366 [==============================] - 487s 356ms/step - loss: 0.1642 - accuracy: 0.9505 - val_loss: 0.2272 - val_accuracy: 0.9177\n",
            "Epoch 4/20\n",
            "1366/1366 [==============================] - 488s 358ms/step - loss: 0.1496 - accuracy: 0.9541 - val_loss: 0.2037 - val_accuracy: 0.9422\n",
            "Epoch 5/20\n",
            "1366/1366 [==============================] - 486s 356ms/step - loss: 0.1457 - accuracy: 0.9548 - val_loss: 0.2014 - val_accuracy: 0.9393\n",
            "Epoch 6/20\n",
            "1366/1366 [==============================] - 482s 353ms/step - loss: 0.1364 - accuracy: 0.9570 - val_loss: 0.1981 - val_accuracy: 0.9363\n",
            "Epoch 7/20\n",
            "1366/1366 [==============================] - 487s 356ms/step - loss: 0.1332 - accuracy: 0.9579 - val_loss: 0.1960 - val_accuracy: 0.9403\n",
            "Epoch 8/20\n",
            "1366/1366 [==============================] - 486s 356ms/step - loss: 0.1285 - accuracy: 0.9593 - val_loss: 0.1786 - val_accuracy: 0.9368\n",
            "Epoch 9/20\n",
            "1366/1366 [==============================] - 487s 356ms/step - loss: 0.1232 - accuracy: 0.9603 - val_loss: 0.2077 - val_accuracy: 0.9272\n",
            "Epoch 10/20\n",
            "1366/1366 [==============================] - 482s 353ms/step - loss: 0.1194 - accuracy: 0.9606 - val_loss: 0.1835 - val_accuracy: 0.9370\n"
          ]
        },
        {
          "output_type": "execute_result",
          "data": {
            "text/plain": [
              "<keras.callbacks.History at 0x7bab92f11c00>"
            ]
          },
          "metadata": {},
          "execution_count": 47
        }
      ]
    },
    {
      "cell_type": "code",
      "source": [
        "model.save(\"malaria_model_cnn.h5\")"
      ],
      "metadata": {
        "id": "xOg_re1_loJD"
      },
      "execution_count": 48,
      "outputs": []
    }
  ]
}